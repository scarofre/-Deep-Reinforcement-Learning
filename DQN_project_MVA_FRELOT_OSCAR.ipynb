{
 "cells": [
  {
   "cell_type": "markdown",
   "metadata": {},
   "source": [
    "**You may need to install [OpenCV](https://pypi.python.org/pypi/opencv-python) and [scikit-video](http://www.scikit-video.org/stable/).**"
   ]
  },
  {
   "cell_type": "code",
   "execution_count": 1,
   "metadata": {},
   "outputs": [
    {
     "name": "stdout",
     "output_type": "stream",
     "text": [
      "Requirement already satisfied: keras in c:\\users\\oscar\\appdata\\local\\programs\\python\\python37\\lib\\site-packages (2.3.1)\n",
      "Requirement already satisfied: h5py in c:\\users\\oscar\\appdata\\local\\programs\\python\\python37\\lib\\site-packages (from keras) (2.10.0)\n",
      "Requirement already satisfied: keras-applications>=1.0.6 in c:\\users\\oscar\\appdata\\local\\programs\\python\\python37\\lib\\site-packages (from keras) (1.0.8)\n",
      "Requirement already satisfied: pyyaml in c:\\users\\oscar\\appdata\\local\\programs\\python\\python37\\lib\\site-packages (from keras) (5.3)\n",
      "Requirement already satisfied: keras-preprocessing>=1.0.5 in c:\\users\\oscar\\appdata\\local\\programs\\python\\python37\\lib\\site-packages (from keras) (1.1.0)\n",
      "Requirement already satisfied: six>=1.9.0 in c:\\users\\oscar\\appdata\\local\\programs\\python\\python37\\lib\\site-packages (from keras) (1.12.0)\n",
      "Requirement already satisfied: numpy>=1.9.1 in c:\\users\\oscar\\appdata\\local\\programs\\python\\python37\\lib\\site-packages (from keras) (1.17.3)\n",
      "Requirement already satisfied: scipy>=0.14 in c:\\users\\oscar\\appdata\\local\\programs\\python\\python37\\lib\\site-packages (from keras) (1.4.1)\n"
     ]
    },
    {
     "name": "stderr",
     "output_type": "stream",
     "text": [
      "WARNING: You are using pip version 19.3.1; however, version 20.0.2 is available.\n",
      "You should consider upgrading via the 'python -m pip install --upgrade pip' command.\n"
     ]
    },
    {
     "name": "stdout",
     "output_type": "stream",
     "text": [
      "Requirement already satisfied: opencv-python in c:\\users\\oscar\\appdata\\local\\programs\\python\\python37\\lib\\site-packages (4.1.2.30)\n",
      "Requirement already satisfied: numpy>=1.14.5 in c:\\users\\oscar\\appdata\\local\\programs\\python\\python37\\lib\\site-packages (from opencv-python) (1.17.3)\n"
     ]
    },
    {
     "name": "stderr",
     "output_type": "stream",
     "text": [
      "WARNING: You are using pip version 19.3.1; however, version 20.0.2 is available.\n",
      "You should consider upgrading via the 'python -m pip install --upgrade pip' command.\n"
     ]
    },
    {
     "name": "stdout",
     "output_type": "stream",
     "text": [
      "Requirement already satisfied: scikit-video in c:\\users\\oscar\\appdata\\local\\programs\\python\\python37\\lib\\site-packages (1.1.11)\n",
      "Requirement already satisfied: scipy in c:\\users\\oscar\\appdata\\local\\programs\\python\\python37\\lib\\site-packages (from scikit-video) (1.4.1)\n",
      "Requirement already satisfied: pillow in c:\\users\\oscar\\appdata\\local\\programs\\python\\python37\\lib\\site-packages (from scikit-video) (6.2.1)\n",
      "Requirement already satisfied: numpy in c:\\users\\oscar\\appdata\\local\\programs\\python\\python37\\lib\\site-packages (from scikit-video) (1.17.3)\n"
     ]
    },
    {
     "name": "stderr",
     "output_type": "stream",
     "text": [
      "WARNING: You are using pip version 19.3.1; however, version 20.0.2 is available.\n",
      "You should consider upgrading via the 'python -m pip install --upgrade pip' command.\n"
     ]
    },
    {
     "name": "stdout",
     "output_type": "stream",
     "text": [
      "Requirement already satisfied: tensorflow in c:\\users\\oscar\\appdata\\local\\programs\\python\\python37\\lib\\site-packages (2.1.0)\n",
      "Requirement already satisfied: astor>=0.6.0 in c:\\users\\oscar\\appdata\\local\\programs\\python\\python37\\lib\\site-packages (from tensorflow) (0.8.1)\n",
      "Requirement already satisfied: numpy<2.0,>=1.16.0 in c:\\users\\oscar\\appdata\\local\\programs\\python\\python37\\lib\\site-packages (from tensorflow) (1.17.3)\n",
      "Requirement already satisfied: termcolor>=1.1.0 in c:\\users\\oscar\\appdata\\local\\programs\\python\\python37\\lib\\site-packages (from tensorflow) (1.1.0)\n",
      "Requirement already satisfied: six>=1.12.0 in c:\\users\\oscar\\appdata\\local\\programs\\python\\python37\\lib\\site-packages (from tensorflow) (1.12.0)\n",
      "Requirement already satisfied: opt-einsum>=2.3.2 in c:\\users\\oscar\\appdata\\local\\programs\\python\\python37\\lib\\site-packages (from tensorflow) (3.1.0)\n",
      "Requirement already satisfied: protobuf>=3.8.0 in c:\\users\\oscar\\appdata\\local\\programs\\python\\python37\\lib\\site-packages (from tensorflow) (3.11.2)\n",
      "Requirement already satisfied: scipy==1.4.1; python_version >= \"3\" in c:\\users\\oscar\\appdata\\local\\programs\\python\\python37\\lib\\site-packages (from tensorflow) (1.4.1)\n",
      "Requirement already satisfied: google-pasta>=0.1.6 in c:\\users\\oscar\\appdata\\local\\programs\\python\\python37\\lib\\site-packages (from tensorflow) (0.1.8)\n",
      "Requirement already satisfied: grpcio>=1.8.6 in c:\\users\\oscar\\appdata\\local\\programs\\python\\python37\\lib\\site-packages (from tensorflow) (1.26.0)\n",
      "Requirement already satisfied: wheel>=0.26; python_version >= \"3\" in c:\\users\\oscar\\appdata\\local\\programs\\python\\python37\\lib\\site-packages (from tensorflow) (0.34.0)\n",
      "Requirement already satisfied: tensorboard<2.2.0,>=2.1.0 in c:\\users\\oscar\\appdata\\local\\programs\\python\\python37\\lib\\site-packages (from tensorflow) (2.1.0)\n",
      "Requirement already satisfied: keras-applications>=1.0.8 in c:\\users\\oscar\\appdata\\local\\programs\\python\\python37\\lib\\site-packages (from tensorflow) (1.0.8)\n",
      "Requirement already satisfied: gast==0.2.2 in c:\\users\\oscar\\appdata\\local\\programs\\python\\python37\\lib\\site-packages (from tensorflow) (0.2.2)\n",
      "Requirement already satisfied: absl-py>=0.7.0 in c:\\users\\oscar\\appdata\\local\\programs\\python\\python37\\lib\\site-packages (from tensorflow) (0.9.0)\n",
      "Requirement already satisfied: keras-preprocessing>=1.1.0 in c:\\users\\oscar\\appdata\\local\\programs\\python\\python37\\lib\\site-packages (from tensorflow) (1.1.0)\n",
      "Requirement already satisfied: tensorflow-estimator<2.2.0,>=2.1.0rc0 in c:\\users\\oscar\\appdata\\local\\programs\\python\\python37\\lib\\site-packages (from tensorflow) (2.1.0)\n",
      "Requirement already satisfied: wrapt>=1.11.1 in c:\\users\\oscar\\appdata\\local\\programs\\python\\python37\\lib\\site-packages (from tensorflow) (1.11.2)\n",
      "Requirement already satisfied: setuptools in c:\\users\\oscar\\appdata\\local\\programs\\python\\python37\\lib\\site-packages (from protobuf>=3.8.0->tensorflow) (40.8.0)\n",
      "Requirement already satisfied: google-auth<2,>=1.6.3 in c:\\users\\oscar\\appdata\\local\\programs\\python\\python37\\lib\\site-packages (from tensorboard<2.2.0,>=2.1.0->tensorflow) (1.11.0)\n",
      "Requirement already satisfied: markdown>=2.6.8 in c:\\users\\oscar\\appdata\\local\\programs\\python\\python37\\lib\\site-packages (from tensorboard<2.2.0,>=2.1.0->tensorflow) (3.1.1)\n",
      "Requirement already satisfied: werkzeug>=0.11.15 in c:\\users\\oscar\\appdata\\local\\programs\\python\\python37\\lib\\site-packages (from tensorboard<2.2.0,>=2.1.0->tensorflow) (0.16.1)\n",
      "Requirement already satisfied: google-auth-oauthlib<0.5,>=0.4.1 in c:\\users\\oscar\\appdata\\local\\programs\\python\\python37\\lib\\site-packages (from tensorboard<2.2.0,>=2.1.0->tensorflow) (0.4.1)\n",
      "Requirement already satisfied: requests<3,>=2.21.0 in c:\\users\\oscar\\appdata\\local\\programs\\python\\python37\\lib\\site-packages (from tensorboard<2.2.0,>=2.1.0->tensorflow) (2.22.0)\n",
      "Requirement already satisfied: h5py in c:\\users\\oscar\\appdata\\local\\programs\\python\\python37\\lib\\site-packages (from keras-applications>=1.0.8->tensorflow) (2.10.0)\n",
      "Requirement already satisfied: pyasn1-modules>=0.2.1 in c:\\users\\oscar\\appdata\\local\\programs\\python\\python37\\lib\\site-packages (from google-auth<2,>=1.6.3->tensorboard<2.2.0,>=2.1.0->tensorflow) (0.2.8)\n",
      "Requirement already satisfied: cachetools<5.0,>=2.0.0 in c:\\users\\oscar\\appdata\\local\\programs\\python\\python37\\lib\\site-packages (from google-auth<2,>=1.6.3->tensorboard<2.2.0,>=2.1.0->tensorflow) (4.0.0)\n",
      "Requirement already satisfied: rsa<4.1,>=3.1.4 in c:\\users\\oscar\\appdata\\local\\programs\\python\\python37\\lib\\site-packages (from google-auth<2,>=1.6.3->tensorboard<2.2.0,>=2.1.0->tensorflow) (4.0)\n",
      "Requirement already satisfied: requests-oauthlib>=0.7.0 in c:\\users\\oscar\\appdata\\local\\programs\\python\\python37\\lib\\site-packages (from google-auth-oauthlib<0.5,>=0.4.1->tensorboard<2.2.0,>=2.1.0->tensorflow) (1.3.0)\n",
      "Requirement already satisfied: certifi>=2017.4.17 in c:\\users\\oscar\\appdata\\local\\programs\\python\\python37\\lib\\site-packages (from requests<3,>=2.21.0->tensorboard<2.2.0,>=2.1.0->tensorflow) (2019.11.28)\n",
      "Requirement already satisfied: urllib3!=1.25.0,!=1.25.1,<1.26,>=1.21.1 in c:\\users\\oscar\\appdata\\local\\programs\\python\\python37\\lib\\site-packages (from requests<3,>=2.21.0->tensorboard<2.2.0,>=2.1.0->tensorflow) (1.25.8)\n",
      "Requirement already satisfied: idna<2.9,>=2.5 in c:\\users\\oscar\\appdata\\local\\programs\\python\\python37\\lib\\site-packages (from requests<3,>=2.21.0->tensorboard<2.2.0,>=2.1.0->tensorflow) (2.8)\n",
      "Requirement already satisfied: chardet<3.1.0,>=3.0.2 in c:\\users\\oscar\\appdata\\local\\programs\\python\\python37\\lib\\site-packages (from requests<3,>=2.21.0->tensorboard<2.2.0,>=2.1.0->tensorflow) (3.0.4)\n",
      "Requirement already satisfied: pyasn1<0.5.0,>=0.4.6 in c:\\users\\oscar\\appdata\\local\\programs\\python\\python37\\lib\\site-packages (from pyasn1-modules>=0.2.1->google-auth<2,>=1.6.3->tensorboard<2.2.0,>=2.1.0->tensorflow) (0.4.8)\n",
      "Requirement already satisfied: oauthlib>=3.0.0 in c:\\users\\oscar\\appdata\\local\\programs\\python\\python37\\lib\\site-packages (from requests-oauthlib>=0.7.0->google-auth-oauthlib<0.5,>=0.4.1->tensorboard<2.2.0,>=2.1.0->tensorflow) (3.1.0)\n"
     ]
    },
    {
     "name": "stderr",
     "output_type": "stream",
     "text": [
      "WARNING: You are using pip version 19.3.1; however, version 20.0.2 is available.\n",
      "You should consider upgrading via the 'python -m pip install --upgrade pip' command.\n"
     ]
    },
    {
     "name": "stdout",
     "output_type": "stream",
     "text": [
      "Requirement already satisfied: ffmpeg in c:\\users\\oscar\\appdata\\local\\programs\\python\\python37\\lib\\site-packages (1.4)\n",
      "Requirement already satisfied: scikit-video in c:\\users\\oscar\\appdata\\local\\programs\\python\\python37\\lib\\site-packages (1.1.11)\n",
      "Requirement already satisfied: numpy in c:\\users\\oscar\\appdata\\local\\programs\\python\\python37\\lib\\site-packages (from scikit-video) (1.17.3)\n",
      "Requirement already satisfied: scipy in c:\\users\\oscar\\appdata\\local\\programs\\python\\python37\\lib\\site-packages (from scikit-video) (1.4.1)\n",
      "Requirement already satisfied: pillow in c:\\users\\oscar\\appdata\\local\\programs\\python\\python37\\lib\\site-packages (from scikit-video) (6.2.1)\n"
     ]
    },
    {
     "name": "stderr",
     "output_type": "stream",
     "text": [
      "WARNING: You are using pip version 19.3.1; however, version 20.0.2 is available.\n",
      "You should consider upgrading via the 'python -m pip install --upgrade pip' command.\n"
     ]
    },
    {
     "name": "stdout",
     "output_type": "stream",
     "text": [
      "Requirement already satisfied: ffmpeg in c:\\users\\oscar\\appdata\\local\\programs\\python\\python37\\lib\\site-packages (1.4)\n"
     ]
    },
    {
     "name": "stderr",
     "output_type": "stream",
     "text": [
      "WARNING: You are using pip version 19.3.1; however, version 20.0.2 is available.\n",
      "You should consider upgrading via the 'python -m pip install --upgrade pip' command.\n"
     ]
    }
   ],
   "source": [
    "!pip install keras\n",
    "!pip install opencv-python\n",
    "!pip install scikit-video\n",
    "!pip install tensorflow\n",
    "!pip install ffmpeg scikit-video\n",
    "!pip install ffmpeg"
   ]
  },
  {
   "cell_type": "code",
   "execution_count": 1,
   "metadata": {},
   "outputs": [
    {
     "name": "stderr",
     "output_type": "stream",
     "text": [
      "Using TensorFlow backend.\n"
     ]
    }
   ],
   "source": [
    "import keras\n",
    "import numpy as np\n",
    "import io\n",
    "import base64\n",
    "from IPython.display import HTML\n",
    "import skvideo\n",
    "#skvideo.setFFmpegPath(\"C:/Users/oscar/AppData/Local/Programs/Python/Python37/Lib/site-packages/ffmpeg\") # you need this before the import\n",
    "skvideo.setFFmpegPath('C:/Users/oscar/AppData/Local/Programs/Python/Python37/Lib/site-packages/skvideo/io')\n",
    "import skvideo.io\n",
    "import cv2\n",
    "import json\n",
    "\n",
    "from keras.models import Sequential,model_from_json\n",
    "from keras.layers.core import Dense,Flatten\n",
    "from keras.optimizers import RMSprop, Adam, sgd\n",
    "from keras.layers import Conv2D, MaxPooling2D, Activation, AveragePooling2D,Reshape,BatchNormalization"
   ]
  },
  {
   "cell_type": "markdown",
   "metadata": {},
   "source": [
    "# MiniProject on Deep Reinforcement Learning"
   ]
  },
  {
   "cell_type": "markdown",
   "metadata": {},
   "source": [
    "__Notations__: $E_p$ is the expectation under probability $p$. Please justify each of your answer and widely comment your code."
   ]
  },
  {
   "cell_type": "markdown",
   "metadata": {},
   "source": [
    "# Context"
   ]
  },
  {
   "cell_type": "markdown",
   "metadata": {},
   "source": [
    "In a reinforcement learning algorithm, we modelize each step $t$ as an action $a_t$ obtained from a state $s_t$, i.e. $\\{(a_{t},s_{t})_{t\\leq T}\\}$ having the Markov property. We consider a discount factor $\\gamma \\in [0,1]$ that ensures convergence. The goal is to find among all the policies $\\pi$, one that maximizes the expected reward:\n",
    "\n",
    "\\begin{equation*}\n",
    "R(\\pi)=\\sum_{t\\leq T}E_{p^{\\pi}}[\\gamma^t r(s_{t},a_{t})] \\> ,\n",
    "\\end{equation*}\n",
    "\n",
    "where: \n",
    "\\begin{equation*}p^{\\pi}(a_{0},a_{1},s_{1},...,a_{T},s_{T})=p(a_{0})\\prod_{t=1}^{T}\\pi(a_{t}|s_{t})p(s_{t+1}|s_{t},a_{t}) \\> .\n",
    "\\end{equation*}\n",
    "\n",
    "We note the $Q$-function:\n",
    "\n",
    "\\begin{equation*}Q^\\pi(s,a)=E_{p^{\\pi}}[\\sum_{t\\leq T}\\gamma^{t}r(s_{t},a_{t})|s_{0}=s,a_{0}=a] \\> .\n",
    "\\end{equation*}\n",
    "\n",
    "Thus, the optimal Q function is:\n",
    "\\begin{equation*}\n",
    "Q^*(s,a)=\\max_{\\pi}Q^\\pi(s,a) \\> .\n",
    "\\end{equation*}\n",
    "\n",
    "In this project, we will apply the deep reinforcement learning techniques to a simple game: an agent will have to learn from scratch a policy that will permit it maximizing a reward."
   ]
  },
  {
   "cell_type": "markdown",
   "metadata": {},
   "source": [
    "## The environment, the agent and the game"
   ]
  },
  {
   "cell_type": "markdown",
   "metadata": {},
   "source": [
    "### The environment"
   ]
  },
  {
   "cell_type": "markdown",
   "metadata": {},
   "source": [
    "```Environment``` is an abstract class that represents the states, rewards, and actions to obtain the new state."
   ]
  },
  {
   "cell_type": "code",
   "execution_count": 2,
   "metadata": {},
   "outputs": [],
   "source": [
    "class Environment(object):\n",
    "    def __init__(self):\n",
    "        pass\n",
    "\n",
    "    def act(self, act):\n",
    "        \"\"\"\n",
    "        One can act on the environment and obtain its reaction:\n",
    "        - the new state\n",
    "        - the reward of the new state\n",
    "        - should we continue the game?\n",
    "\n",
    "        :return: state, reward, game_over\n",
    "        \"\"\"\n",
    "        pass\n",
    "\n",
    "\n",
    "    def reset(self):\n",
    "        \"\"\"\n",
    "        Reinitialize the environment to a random state and returns\n",
    "        the original state\n",
    "\n",
    "        :return: state\n",
    "        \"\"\"\n",
    "        pass\n",
    "    \n",
    "    def draw(self):\n",
    "        \"\"\"\n",
    "        Visualize in the console or graphically the current state\n",
    "        \"\"\"\n",
    "        pass"
   ]
  },
  {
   "cell_type": "markdown",
   "metadata": {},
   "source": [
    "The method ```act``` allows to act on the environment at a given state $s_t$ (stored internally), via action $a_t$. The method will return the new state $s_{t+1}$, the reward $r(s_{t},a_{t})$ and determines if $t\\leq T$ (*game_over*).\n",
    "\n",
    "The method ```reset``` simply reinitializes the environment to a random state $s_0$.\n",
    "\n",
    "The method ```draw``` displays the current state $s_t$ (this is useful to check the behavior of the Agent).\n",
    "\n",
    "We modelize $s_t$ as a tensor, while $a_t$ is an integer."
   ]
  },
  {
   "cell_type": "markdown",
   "metadata": {},
   "source": [
    "### The Agent"
   ]
  },
  {
   "cell_type": "markdown",
   "metadata": {},
   "source": [
    "The goal of the ```Agent``` is to interact with the ```Environment``` by proposing actions $a_t$ obtained from a given state $s_t$ to attempt to maximize its __reward__ $r(s_t,a_t)$. We propose the following abstract class:"
   ]
  },
  {
   "cell_type": "code",
   "execution_count": 3,
   "metadata": {},
   "outputs": [],
   "source": [
    "class Agent(object):\n",
    "    def __init__(self, epsilon=0.1, n_action=4):\n",
    "        self.epsilon = epsilon\n",
    "        self.n_action = n_action\n",
    "    \n",
    "    def set_epsilon(self,e):\n",
    "        self.epsilon = e\n",
    "\n",
    "    def act(self,s,train=True):\n",
    "        \"\"\" This function should return the next action to do:\n",
    "        an integer between 0 and 4 (not included) with a random exploration of epsilon\"\"\"\n",
    "        if train:\n",
    "            if np.random.rand() <= self.epsilon:\n",
    "                a = np.random.randint(0, self.n_action, size=1)[0]\n",
    "            else:\n",
    "                a = self.learned_act(s)\n",
    "        else: # in some cases, this can improve the performance.. remove it if poor performances\n",
    "            a = self.learned_act(s)\n",
    "\n",
    "        return a\n",
    "\n",
    "    def learned_act(self,s):\n",
    "        \"\"\" Act via the policy of the agent, from a given state s\n",
    "        it proposes an action a\"\"\"\n",
    "        pass\n",
    "\n",
    "    def reinforce(self, s, n_s, a, r, game_over_):\n",
    "        \"\"\" This function is the core of the learning algorithm. \n",
    "        It takes as an input the current state s_, the next state n_s_\n",
    "        the action a_ used to move from s_ to n_s_ and the reward r_.\n",
    "        \n",
    "        Its goal is to learn a policy.\n",
    "        \"\"\"\n",
    "        pass\n",
    "\n",
    "    def save(self):\n",
    "        \"\"\" This function returns basic stats if applicable: the\n",
    "        loss and/or the model\"\"\"\n",
    "        pass\n",
    "\n",
    "    def load(self):\n",
    "        \"\"\" This function allows to restore a model\"\"\"\n",
    "        pass"
   ]
  },
  {
   "cell_type": "markdown",
   "metadata": {},
   "source": [
    "***\n",
    "__Question 1__:\n",
    "Explain the function act. Why is ```epsilon``` essential?"
   ]
  },
  {
   "cell_type": "markdown",
   "metadata": {},
   "source": [
    "(you can use Markdown and Latex)"
   ]
  },
  {
   "cell_type": "markdown",
   "metadata": {},
   "source": [
    "The \"act\" function will choose the next action to be carried out depending on the state of the environment and the mode in which we are in: training or test.\n",
    "In the case of test the action chosen is always the one that maximizes Q. This action is determined with the learned_act function.\n",
    "In the case of training it is not always the action that maximizes Q that is chosen. We chose a randomn number between 0 and 1. If it is less than epsilone we will explore the environment by randomly choosing an action. Otherwise, we will exploit it in order to maximize Q. Epsilone is thus the probability that we explore the environment. It allows us to balance exploitation and exploration.\n",
    "\n"
   ]
  },
  {
   "cell_type": "markdown",
   "metadata": {},
   "source": [
    "***\n",
    "### The Game"
   ]
  },
  {
   "cell_type": "markdown",
   "metadata": {},
   "source": [
    "The ```Agent``` and the ```Environment``` work in an interlaced way as in the following (take some time to understand this code as it is the core of the project)\n",
    "\n",
    "```python\n",
    "\n",
    "epoch = 300\n",
    "env = Environment()\n",
    "agent = Agent()\n",
    "\n",
    "\n",
    "# Number of won games\n",
    "score = 0\n",
    "loss = 0\n",
    "\n",
    "\n",
    "for e in range(epoch):\n",
    "    # At each epoch, we restart to a fresh game and get the initial state\n",
    "    state = env.reset()\n",
    "    # This assumes that the games will end\n",
    "    game_over = False\n",
    "\n",
    "    win = 0\n",
    "    lose = 0\n",
    "    \n",
    "    while not game_over:\n",
    "        # The agent performs an action\n",
    "        action = agent.act(state)\n",
    "\n",
    "        # Apply an action to the environment, get the next state, the reward\n",
    "        # and if the games end\n",
    "        prev_state = state\n",
    "        state, reward, game_over = env.act(action)\n",
    "\n",
    "        # Update the counters\n",
    "        if reward > 0:\n",
    "            win = win + reward\n",
    "        if reward < 0:\n",
    "            lose = lose -reward\n",
    "\n",
    "        # Apply the reinforcement strategy\n",
    "        loss = agent.reinforce(prev_state, state,  action, reward, game_over)\n",
    "\n",
    "    # Save as a mp4\n",
    "    if e % 10 == 0:\n",
    "        env.draw(e)\n",
    "\n",
    "    # Update stats\n",
    "    score += win-lose\n",
    "\n",
    "    print(\"Epoch {:03d}/{:03d} | Loss {:.4f} | Win/lose count {}/{} ({})\"\n",
    "          .format(e, epoch, loss, win, lose, win-lose))\n",
    "    agent.save()\n",
    "```"
   ]
  },
  {
   "cell_type": "markdown",
   "metadata": {},
   "source": [
    "# The game, *eat cheese*"
   ]
  },
  {
   "cell_type": "markdown",
   "metadata": {},
   "source": [
    "A rat runs on an island and tries to eat as much as possible. The island is subdivided into $N\\times N$ cells, in which there are cheese (+0.5) and poisonous cells (-1). The rat has a visibility of 2 cells (thus it can see $5^2$ cells). The rat is given a time $T$ to accumulate as much food as possible. It can perform 4 actions: going up, down, left, right. \n",
    "\n",
    "The goal is to code an agent to solve this task that will learn by trial and error. We propose the following environment:"
   ]
  },
  {
   "cell_type": "code",
   "execution_count": 4,
   "metadata": {},
   "outputs": [],
   "source": [
    "class Environment(object):\n",
    "    def __init__(self, grid_size=10, max_time=500, temperature=0.1):\n",
    "        grid_size = grid_size+4\n",
    "        self.grid_size = grid_size\n",
    "        self.max_time = max_time\n",
    "        self.temperature = temperature\n",
    "\n",
    "        #board on which one plays\n",
    "        self.board = np.zeros((grid_size,grid_size))\n",
    "        self.position = np.zeros((grid_size,grid_size))\n",
    "\n",
    "        # coordinate of the cat\n",
    "        self.x = 0\n",
    "        self.y = 1\n",
    "\n",
    "        # self time\n",
    "        self.t = 0\n",
    "\n",
    "        self.scale=16\n",
    "\n",
    "        self.to_draw = np.zeros((max_time+2, grid_size*self.scale, grid_size*self.scale, 3))\n",
    "\n",
    "\n",
    "    def draw(self,e):\n",
    "        skvideo.io.vwrite(str(e) + '.mp4', self.to_draw)\n",
    "\n",
    "    def get_frame(self,t):\n",
    "        b = np.zeros((self.grid_size,self.grid_size,3))+128\n",
    "        b[self.board>0,0] = 256\n",
    "        b[self.board < 0, 2] = 256\n",
    "        b[self.x,self.y,:]=256\n",
    "        b[-2:,:,:]=0\n",
    "        b[:,-2:,:]=0\n",
    "        b[:2,:,:]=0\n",
    "        b[:,:2,:]=0\n",
    "        \n",
    "        b =  cv2.resize(b, None, fx=self.scale, fy=self.scale, interpolation=cv2.INTER_NEAREST)\n",
    "\n",
    "        self.to_draw[t,:,:,:]=b\n",
    "\n",
    "\n",
    "    def act(self, action):\n",
    "        \"\"\"This function returns the new state, reward and decides if the\n",
    "        game ends.\"\"\"\n",
    "\n",
    "        self.get_frame(int(self.t))\n",
    "\n",
    "        self.position = np.zeros((self.grid_size, self.grid_size))\n",
    "\n",
    "        self.position[0:2,:]= -1\n",
    "        self.position[:,0:2] = -1\n",
    "        self.position[-2:, :] = -1\n",
    "        self.position[-2:, :] = -1\n",
    "\n",
    "        self.position[self.x, self.y] = 1\n",
    "        if action == 0:\n",
    "            if self.x == self.grid_size-3:\n",
    "                self.x = self.x-1\n",
    "            else:\n",
    "                self.x = self.x + 1\n",
    "        elif action == 1:\n",
    "            if self.x == 2:\n",
    "                self.x = self.x+1\n",
    "            else:\n",
    "                self.x = self.x-1\n",
    "        elif action == 2:\n",
    "            if self.y == self.grid_size - 3:\n",
    "                self.y = self.y - 1\n",
    "            else:\n",
    "                self.y = self.y + 1\n",
    "        elif action == 3:\n",
    "            if self.y == 2:\n",
    "                self.y = self.y + 1\n",
    "            else:\n",
    "                self.y = self.y - 1\n",
    "        else:\n",
    "            RuntimeError('Error: action not recognized')\n",
    "\n",
    "        self.t = self.t + 1\n",
    "        reward = self.board[self.x, self.y]\n",
    "        self.board[self.x, self.y] = 0\n",
    "        game_over = self.t > self.max_time\n",
    "        state = np.concatenate((self.board.reshape(self.grid_size, self.grid_size,1),\n",
    "                        self.position.reshape(self.grid_size, self.grid_size,1)),axis=2)\n",
    "        state = state[self.x-2:self.x+3,self.y-2:self.y+3,:]\n",
    "\n",
    "        return state, reward, game_over\n",
    "\n",
    "    def reset(self):\n",
    "        \"\"\"This function resets the game and returns the initial state\"\"\"\n",
    "\n",
    "        self.x = np.random.randint(3, self.grid_size-3, size=1)[0]\n",
    "        self.y = np.random.randint(3, self.grid_size-3, size=1)[0]\n",
    "\n",
    "\n",
    "        bonus = 0.5*np.random.binomial(1,self.temperature,size=self.grid_size**2)\n",
    "        bonus = bonus.reshape(self.grid_size,self.grid_size)\n",
    "\n",
    "        malus = -1.0*np.random.binomial(1,self.temperature,size=self.grid_size**2)\n",
    "        malus = malus.reshape(self.grid_size, self.grid_size)\n",
    "\n",
    "        self.to_draw = np.zeros((self.max_time+2, self.grid_size*self.scale, self.grid_size*self.scale, 3))\n",
    "\n",
    "\n",
    "        malus[bonus>0]=0\n",
    "\n",
    "        self.board = bonus + malus\n",
    "\n",
    "        self.position = np.zeros((self.grid_size, self.grid_size))\n",
    "        self.position[0:2,:]= -1\n",
    "        self.position[:,0:2] = -1\n",
    "        self.position[-2:, :] = -1\n",
    "        self.position[-2:, :] = -1\n",
    "        self.board[self.x,self.y] = 0\n",
    "        self.t = 0\n",
    "\n",
    "        state = np.concatenate((\n",
    "                               self.board.reshape(self.grid_size, self.grid_size,1),\n",
    "                        self.position.reshape(self.grid_size, self.grid_size,1)),axis=2)\n",
    "\n",
    "        state = state[self.x - 2:self.x + 3, self.y - 2:self.y + 3, :]\n",
    "        return state"
   ]
  },
  {
   "cell_type": "markdown",
   "metadata": {},
   "source": [
    "The following elements are important because they correspond to the hyper parameters for this project:"
   ]
  },
  {
   "cell_type": "code",
   "execution_count": 5,
   "metadata": {},
   "outputs": [],
   "source": [
    "# parameters\n",
    "size = 13\n",
    "T=200\n",
    "temperature=0.3\n",
    "epochs_train=2 # set small when debugging\n",
    "epochs_test=2 # set small when debugging\n",
    "\n",
    "# display videos\n",
    "def display_videos(name):\n",
    "    video = io.open(name, 'r+b').read()\n",
    "    encoded = base64.b64encode(video)\n",
    "    return '''<video alt=\"test\" controls>\n",
    "                <source src=\"data:video/mp4;base64,{0}\" type=\"video/mp4\" />\n",
    "             </video>'''.format(encoded.decode('ascii'))"
   ]
  },
  {
   "cell_type": "markdown",
   "metadata": {},
   "source": [
    "__Question 2__ Explain the use of the arrays ```position``` and ```board```."
   ]
  },
  {
   "cell_type": "markdown",
   "metadata": {},
   "source": [
    "The array position gives the position of the rat and the border of the island. It is an array of shape $(N+4)\\times (N+4)$ filled  with 0 unless on the position of the rat, there is a $1$ and out of the border of island where there are $-1$.\n",
    "\n",
    "$P=\\begin{bmatrix}\n",
    "-1 & -1 & -1 & -1 & ... &-1&-1&-1 & -1\\\\\n",
    "-1 & -1 & -1 & -1 & ... &-1&-1&-1 & -1\\\\\n",
    "-1 & -1 & 0 & 0 & ... &0&0&-1 & -1\\\\\n",
    "-1 & -1 & 0 & 0 & ... &0&0&-1 & -1\\\\\n",
    "  & & &...& & & &\\\\\n",
    "  -1 & -1 & 0 & 1 & ... &0&0&-1 & -1\\\\\n",
    "  -1 & -1 & 0 & 0 & ... &0&0&-1 & -1\\\\\n",
    " -1 & -1 & 0 & 0 & ... &0&0&-1 & -1\\\\\n",
    "-1 & -1 & -1 & -1 & ... &-1&-1&-1 & -1\\\\\n",
    "-1 & -1 & -1 & -1 & ... &-1&-1&-1 & -1\n",
    "\\end{bmatrix}$\n",
    "\n",
    "The array board gives the reward of each cell. It is an array of shape $(N+4)\\times(N+4)$ filled  with $0.5$ for the cells with cheese, $-1$ for the poisonous cells, and $0$ for the cell already visited. Notice that the border of the board will never be reach by the rat.\n",
    "\n",
    "$B=\\begin{bmatrix}\n",
    "-1 & 0.5 & -1 & -1 & ... &0.5&-1&-1 & 0.5\\\\\n",
    "-1 & 0.5 & -1 & 0.5 & ... &-1&0.5&0.5 & -1\\\\\n",
    " 0.5& -1 & -1 & 0.5 & ... &-1&-1&-1 & 0.5\\\\\n",
    "-1 & -1 & 0.5 & -1 & ... &0.5&-1&0.5 & -1\\\\\n",
    "  & & &...& & & &\\\\\n",
    "  -1 & -1 & 0.5 & -1 & ... &0&0&-1 & -1\\\\\n",
    "  0.5 & -1 & 0.5 & 0.5 & ... &0&0&-1 & 0.5\\\\\n",
    " 0.5 & -1 & -1 & 0.5 & ... &0.5&-1&0.5 & -1\\\\\n",
    "-1 & -1 & -1 & -1 & ... &-1&-1&-1 & -1\\\\\n",
    "0.5 & -1 & 0.5 & 0.5 & ... &-1&-1&0.5 & 0.5\n",
    "\\end{bmatrix}$\n"
   ]
  },
  {
   "cell_type": "markdown",
   "metadata": {},
   "source": []
  },
  {
   "cell_type": "markdown",
   "metadata": {},
   "source": [
    "## Random Agent"
   ]
  },
  {
   "cell_type": "markdown",
   "metadata": {},
   "source": [
    "***\n",
    "__Question 3__ Implement a random Agent (only ```learned_act``` needs to be implemented):"
   ]
  },
  {
   "cell_type": "code",
   "execution_count": 6,
   "metadata": {},
   "outputs": [],
   "source": [
    "class RandomAgent(Agent):\n",
    "    def __init__(self):\n",
    "        super(RandomAgent, self).__init__()\n",
    "        pass\n",
    "\n",
    "    def learned_act(self, s):\n",
    "        return np.random.randint(4)\n",
    "        pass"
   ]
  },
  {
   "cell_type": "markdown",
   "metadata": {},
   "source": [
    "***\n",
    "***\n",
    "__Question 4__ Visualize the game moves. You need to fill in the following function for the evaluation:"
   ]
  },
  {
   "cell_type": "code",
   "execution_count": 7,
   "metadata": {},
   "outputs": [],
   "source": [
    "def test(agent,env,epochs,prefix=''):\n",
    "    # Number of won games\n",
    "    score = 0\n",
    "        \n",
    "    for e in range(epochs):\n",
    "        \n",
    "        ##### FILL IN HERE\n",
    "        state = env.reset()\n",
    "        game_over = False\n",
    "        win = 0\n",
    "        lose = 0\n",
    "        while not game_over:\n",
    "            action = agent.act(state,False)\n",
    "            prev_state = state\n",
    "            state, reward, game_over = env.act(action)\n",
    "            if reward > 0:\n",
    "                win = win + reward\n",
    "            if reward < 0:\n",
    "                lose = lose -reward\n",
    "        # Save as a mp4\n",
    "        env.draw(prefix+str(e))\n",
    "\n",
    "        # Update stats\n",
    "        score = score + win-lose\n",
    "\n",
    "        print(\"Win/lose count {}/{}. Average score ({})\"\n",
    "              .format(win, lose, score/(1+e)))\n",
    "    print('Final score: '+str(score/epochs))"
   ]
  },
  {
   "cell_type": "code",
   "execution_count": 15,
   "metadata": {},
   "outputs": [
    {
     "name": "stdout",
     "output_type": "stream",
     "text": [
      "Win/lose count 13.0/16.0. Average score (-3.0)\n",
      "Win/lose count 10.0/15.0. Average score (-4.0)\n",
      "Final score: -4.0\n"
     ]
    },
    {
     "data": {
      "text/html": [
       "<video alt=\"test\" controls>\n",
       "                <source src=\"data:video/mp4;base64,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\" type=\"video/mp4\" />\n",
       "             </video>"
      ],
      "text/plain": [
       "<IPython.core.display.HTML object>"
      ]
     },
     "execution_count": 15,
     "metadata": {},
     "output_type": "execute_result"
    }
   ],
   "source": [
    "# Initialize the game\n",
    "env = Environment(grid_size=size, max_time=T,temperature=temperature)\n",
    "\n",
    "# Initialize the agent!\n",
    "agent = RandomAgent()\n",
    "\n",
    "test(agent,env,epochs_test,prefix='random')\n",
    "HTML(display_videos('random0.mp4'))"
   ]
  },
  {
   "cell_type": "markdown",
   "metadata": {},
   "source": [
    "***\n",
    "## DQN"
   ]
  },
  {
   "cell_type": "markdown",
   "metadata": {},
   "source": [
    "Let us assume here that $T=\\infty$.\n",
    "\n",
    "***\n",
    "__Question 5__ Let $\\pi$ be a policy, show that:\n",
    "\n",
    "\\begin{equation*}\n",
    "Q^{\\pi}(s,a)=E_{(s',a')\\sim p(.|s,a)}[r(s,a)+\\gamma Q^{\\pi}(s',a')]\n",
    "\\end{equation*}\n",
    "\n",
    "Then, show that for the optimal policy $\\pi^*$ (we assume its existence), the following holds: \n",
    "\n",
    "\\begin{equation*}\n",
    "Q^{*}(s,a)=E_{s'\\sim \\pi^*(.|s,a)}[r(s,a)+\\gamma\\max_{a'}Q^{*}(s',a')].\n",
    "\\end{equation*}\n",
    "Finally, deduce that a plausible objective is:\n",
    "\n",
    "\\begin{equation*}\n",
    "\\mathcal{L}(\\theta)=E_{s' \\sim \\pi^*(.|s,a)}\\Vert r+\\gamma\\max\\max_{a'}Q(s',a',\\theta)-Q(s,a,\\theta)\\Vert^{2}.\n",
    "\\end{equation*}\n",
    "\n",
    "\n"
   ]
  },
  {
   "cell_type": "markdown",
   "metadata": {},
   "source": [
    "\\begin{equation*}Q^\\pi(s,a)=E_{p^{\\pi}}[\\sum_{t\\leq T}\\gamma^{t}r(s_{t},a_{t})|s_{0}=s,a_{0}=a] \\> .\n",
    "\\end{equation*}\n",
    "Soit \\begin{equation*}Q^\\pi(s,a)=E_{p^{\\pi}}[\\sum_{1 \\leq t\\leq T}\\gamma^{t}r(s_{t},a_{t})|(s_{0}=s,a_{0}=a) + r(s_{0},a_{0})|s_{0}=s,a_{0}=a] \\end{equation*}\n",
    "\n",
    " Donc \\begin{equation*} Q^\\pi(s,a)=\\gamma E_{p^{\\pi}}[\\sum_{1 \\leq t\\leq T}\\gamma^{t-1}r(s_{t},a_{t})|(s_{0}=s,a_{0}=a)] + E_{p^{\\pi}}[r(s_{0},a_{0})|s_{0}=s,a_{0}=a] \n",
    " \\end{equation*}\n",
    " Ainsi\n",
    "\\begin{equation*}\n",
    "Q^\\pi(s,a) = E_{(s',a')\\sim p(.|s,a)}[r(s,a)+\\gamma Q^{\\pi}(s',a')]\\> .\n",
    "\\end{equation*}"
   ]
  },
  {
   "cell_type": "markdown",
   "metadata": {},
   "source": []
  },
  {
   "cell_type": "markdown",
   "metadata": {},
   "source": [
    "### ***\n",
    "The DQN-learning algorithm relies on these derivations to train the parameters $\\theta$ of a Deep Neural Network:\n",
    "\n",
    "1. At the state $s_t$, select the action $a_t$ with best reward using $Q_t$ and store the results;\n",
    "\n",
    "2. Obtain the new state $s_{t+1}$ from the environment $p$;\n",
    "\n",
    "3. Store $(s_t,a_t,s_{t+1})$;\n",
    "\n",
    "4. Obtain $Q_{t+1}$ by minimizing  $\\mathcal{L}$ from a recovered batch from the previously stored results.\n",
    "\n",
    "***\n",
    "__Question 6__ Implement the class ```Memory``` that stores moves (in a replay buffer) via ```remember``` and provides a ```random_access``` to these. Specify a maximum memory size to avoid side effects. You can for example use a ```list()``` and set by default ```max_memory=100```."
   ]
  },
  {
   "cell_type": "code",
   "execution_count": 8,
   "metadata": {},
   "outputs": [],
   "source": [
    "import random\n",
    "class Memory(object):\n",
    "    def __init__(self, max_memory=100):\n",
    "        self.max_memory = max_memory\n",
    "        self.memory = list()\n",
    "\n",
    "    def remember(self, m):\n",
    "        if(len(self.memory)<self.max_memory):\n",
    "            self.memory.append(m)\n",
    "        else:\n",
    "            del self.memory[0]\n",
    "            self.memory.append(m)\n",
    "        pass\n",
    "\n",
    "    def random_access(self):\n",
    "        return random.choice(self.memory)\n",
    "        pass"
   ]
  },
  {
   "cell_type": "markdown",
   "metadata": {},
   "source": [
    "***\n",
    "The pipeline we will use for training is given below:"
   ]
  },
  {
   "cell_type": "code",
   "execution_count": 9,
   "metadata": {},
   "outputs": [],
   "source": [
    "def train(agent,env,epoch,prefix=''):\n",
    "    # Number of won games\n",
    "    score = 0\n",
    "    loss = 0\n",
    "\n",
    "    for e in range(epoch):\n",
    "        # At each epoch, we restart to a fresh game and get the initial state\n",
    "        state = env.reset()\n",
    "        # This assumes that the games will terminate\n",
    "        game_over = False\n",
    "\n",
    "        win = 0\n",
    "        lose = 0\n",
    "\n",
    "        while not game_over:\n",
    "            # The agent performs an action\n",
    "            action = agent.act(state)\n",
    "\n",
    "            # Apply an action to the environment, get the next state, the reward\n",
    "            # and if the games end\n",
    "            prev_state = state\n",
    "            state, reward, game_over = env.act(action)\n",
    "\n",
    "            # Update the counters\n",
    "            if reward > 0:\n",
    "                win = win + reward\n",
    "            if reward < 0:\n",
    "                lose = lose -reward\n",
    "\n",
    "            # Apply the reinforcement strategy\n",
    "            loss = agent.reinforce(prev_state, state,  action, reward, game_over)\n",
    "\n",
    "        # Save as a mp4\n",
    "        if e % 10 == 0:\n",
    "            env.draw(prefix+str(e))\n",
    "\n",
    "        # Update stats\n",
    "        score += win-lose\n",
    "\n",
    "        print(\"Epoch {:03d}/{:03d} | Loss {:.4f} | Win/lose count {}/{} ({})\"\n",
    "              .format(e, epoch, loss, win, lose, win-lose))\n",
    "        agent.save(name_weights=prefix+'model.h5',name_model=prefix+'model.json')"
   ]
  },
  {
   "cell_type": "markdown",
   "metadata": {},
   "source": [
    "***\n",
    "__Question 7__ Implement the DQN training algorithm using a cascade of fully connected layers. You can use different learning rate, batch size or memory size parameters. In particular, the loss might oscillate while the player will start to win the games. You have to find a good criterium."
   ]
  },
  {
   "cell_type": "code",
   "execution_count": 14,
   "metadata": {},
   "outputs": [],
   "source": [
    "class DQN(Agent):\n",
    "    def __init__(self, grid_size,  epsilon = 0.1, memory_size=100, batch_size = 16,n_state=2):\n",
    "        super(DQN, self).__init__(epsilon = epsilon)\n",
    "\n",
    "        # Discount for Q learning\n",
    "        self.discount = 0.99\n",
    "        \n",
    "        self.grid_size = grid_size\n",
    "        \n",
    "        # number of state\n",
    "        self.n_state = n_state\n",
    "\n",
    "        # Memory\n",
    "        self.memory = Memory(memory_size)\n",
    "        \n",
    "        # Batch size when learning\n",
    "        self.batch_size = batch_size\n",
    "\n",
    "    def learned_act(self, s):   \n",
    "        # Predict the reward value based on the given state\n",
    "        act_values = self.model.predict(np.array(s.reshape((1,5,5,self.n_state))))\n",
    "\n",
    "        # Pick the action based on the predicted reward\n",
    "        action =  np.argmax(act_values[0])  \n",
    "        return action\n",
    "\n",
    "        pass\n",
    "\n",
    "\n",
    "    def reinforce(self, s_, n_s_, a_, r_, game_over_):\n",
    "        # Two steps: first memorize the states, second learn from the pool\n",
    "\n",
    "        self.memory.remember([s_, n_s_, a_, r_, game_over_])\n",
    "        \n",
    "        input_states = np.zeros((self.batch_size, 5,5,self.n_state))\n",
    "        target_q = np.zeros((self.batch_size, 4))\n",
    "        \n",
    "        for i in range(self.batch_size):\n",
    "            ######## FILL IN\n",
    "            \n",
    "            #print(prediction.shape)\n",
    "            state,next_state,action,reward,game_over=self.memory.random_access()\n",
    "            prediction=self.model.predict(state.reshape((1,5,5,self.n_state)))\n",
    "            target_q[i] = prediction\n",
    "            input_states[i]=state\n",
    "            if game_over:\n",
    "                target_q[i][action]=reward\n",
    "                ######## FILL IN\n",
    "            else:\n",
    "                target_q[i][action]=reward + self.discount * np.max(self.model.predict(next_state.reshape((1,5,5,self.n_state))))\n",
    "                ######## FILL IN\n",
    "        ######## FILL IN\n",
    "        # HINT: Clip the target to avoid exploiding gradients.. -- clipping is a bit tighter\n",
    "        target_q = np.clip(target_q, -3, 3)\n",
    "        #print(input_states.shape,target_q.shape)\n",
    "        l = self.model.train_on_batch(input_states, target_q)\n",
    "        return l\n",
    "\n",
    "    def save(self,name_weights='model.h5',name_model='model.json'):\n",
    "        self.model.save_weights(name_weights, overwrite=True)\n",
    "        with open(name_model, \"w\") as outfile:\n",
    "            json.dump(self.model.to_json(), outfile)\n",
    "            \n",
    "    def load(self,name_weights='model.h5',name_model='model.json'):\n",
    "        with open(name_model, \"r\") as jfile:\n",
    "            model = model_from_json(json.load(jfile))\n",
    "        model.load_weights(name_weights)\n",
    "        model.compile(\"sgd\", \"mse\")\n",
    "        self.model = model\n",
    "\n",
    "            \n",
    "class DQN_FC(DQN):\n",
    "    def __init__(self, *args, lr=0.1,**kwargs):\n",
    "        super(DQN_FC, self).__init__( *args,**kwargs)\n",
    "        \n",
    "        \n",
    "        model = Sequential()\n",
    "        model.add(Dense(24, input_shape=(5,5,self.n_state), activation='relu'))\n",
    "        model.add(Flatten())\n",
    "        model.add(Dense(24, activation='relu'))\n",
    "        model.add(Dense(4, activation='linear'))\n",
    "        #model.compile(loss='mse', optimizer=Adam(lr=lr))\n",
    "        \n",
    "        # NN Model\n",
    "        \n",
    "        ####### FILL IN\n",
    "        \n",
    "        model.compile(sgd(lr=lr, decay=1e-4, momentum=0.0), \"mse\")\n",
    "        self.model = model\n",
    "        "
   ]
  },
  {
   "cell_type": "code",
   "execution_count": 25,
   "metadata": {},
   "outputs": [
    {
     "name": "stdout",
     "output_type": "stream",
     "text": [
      "Epoch 000/030 | Loss 0.0060 | Win/lose count 2.0/6.0 (-4.0)\n",
      "Epoch 001/030 | Loss 0.0002 | Win/lose count 2.5/9.0 (-6.5)\n",
      "Epoch 002/030 | Loss 0.0014 | Win/lose count 4.5/2.0 (2.5)\n",
      "Epoch 003/030 | Loss 0.0225 | Win/lose count 5.5/4.0 (1.5)\n",
      "Epoch 004/030 | Loss 0.0747 | Win/lose count 5.0/5.0 (0.0)\n",
      "Epoch 005/030 | Loss 0.0055 | Win/lose count 4.5/4.0 (0.5)\n",
      "Epoch 006/030 | Loss 0.0433 | Win/lose count 8.0/3.0 (5.0)\n",
      "Epoch 007/030 | Loss 0.0004 | Win/lose count 10.5/1.0 (9.5)\n",
      "Epoch 008/030 | Loss 0.0001 | Win/lose count 3.5/3.0 (0.5)\n",
      "Epoch 009/030 | Loss 0.0047 | Win/lose count 11.5/4.0 (7.5)\n",
      "Epoch 010/030 | Loss 0.0009 | Win/lose count 7.0/3.0 (4.0)\n",
      "Epoch 011/030 | Loss 0.0585 | Win/lose count 7.0/2.0 (5.0)\n",
      "Epoch 012/030 | Loss 0.0692 | Win/lose count 5.5/3.0 (2.5)\n",
      "Epoch 013/030 | Loss 0.0052 | Win/lose count 5.0/3.0 (2.0)\n",
      "Epoch 014/030 | Loss 0.0022 | Win/lose count 6.0/9.0 (-3.0)\n",
      "Epoch 015/030 | Loss 0.0003 | Win/lose count 2.0/0 (2.0)\n",
      "Epoch 016/030 | Loss 0.0668 | Win/lose count 15.5/5.0 (10.5)\n",
      "Epoch 017/030 | Loss 0.0578 | Win/lose count 4.5/2.0 (2.5)\n",
      "Epoch 018/030 | Loss 0.0554 | Win/lose count 15.0/4.0 (11.0)\n",
      "Epoch 019/030 | Loss 0.0211 | Win/lose count 13.5/6.0 (7.5)\n",
      "Epoch 020/030 | Loss 0.0515 | Win/lose count 11.0/5.0 (6.0)\n",
      "Epoch 021/030 | Loss 0.0007 | Win/lose count 8.5/4.0 (4.5)\n",
      "Epoch 022/030 | Loss 0.0012 | Win/lose count 10.0/4.0 (6.0)\n",
      "Epoch 023/030 | Loss 0.0011 | Win/lose count 10.0/3.0 (7.0)\n",
      "Epoch 024/030 | Loss 0.0904 | Win/lose count 8.0/3.0 (5.0)\n",
      "Epoch 025/030 | Loss 0.0603 | Win/lose count 5.0/2.0 (3.0)\n",
      "Epoch 026/030 | Loss 0.0019 | Win/lose count 8.5/4.0 (4.5)\n",
      "Epoch 027/030 | Loss 0.0708 | Win/lose count 14.5/5.0 (9.5)\n",
      "Epoch 028/030 | Loss 0.0015 | Win/lose count 8.5/6.0 (2.5)\n",
      "Epoch 029/030 | Loss 0.0034 | Win/lose count 5.5/4.0 (1.5)\n"
     ]
    },
    {
     "data": {
      "text/html": [
       "<video alt=\"test\" controls>\n",
       "                <source src=\"data:video/mp4;base64,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\" type=\"video/mp4\" />\n",
       "             </video>"
      ],
      "text/plain": [
       "<IPython.core.display.HTML object>"
      ]
     },
     "execution_count": 25,
     "metadata": {},
     "output_type": "execute_result"
    }
   ],
   "source": [
    "env = Environment(grid_size=size, max_time=T, temperature=0.3)\n",
    "agent = DQN_FC(size, lr=.1, epsilon = 0.1, memory_size=100, batch_size = 32)\n",
    "\n",
    "train(agent, env, 30, prefix='fc_train')\n",
    "HTML(display_videos('fc_train0.mp4'))"
   ]
  },
  {
   "cell_type": "markdown",
   "metadata": {},
   "source": [
    "***\n",
    "***\n",
    "__Question 8__ Implement the DQN training algorithm using a CNN (for example, 2 convolutional layers and one final fully connected layer)."
   ]
  },
  {
   "cell_type": "code",
   "execution_count": 15,
   "metadata": {},
   "outputs": [],
   "source": [
    "class DQN_CNN(DQN):\n",
    "    def __init__(self, *args,lr=0.1,**kwargs):\n",
    "        super(DQN_CNN, self).__init__(*args,**kwargs)\n",
    "        \n",
    "        ###### FILL IN\n",
    "        model = Sequential()\n",
    "        model.add(Conv2D(64, kernel_size=3, activation='relu', input_shape=(5,5,self.n_state)))\n",
    "        model.add(Conv2D(32, kernel_size=3, activation='relu'))        \n",
    "        model.add(Flatten())\n",
    "        model.add(Dense(30, activation='relu'))\n",
    "        model.add(Dense(4, activation='linear'))\n",
    "        \n",
    "        model.compile(sgd(lr=lr, decay=1e-4, momentum=0.0), \"mse\")\n",
    "        self.model = model"
   ]
  },
  {
   "cell_type": "code",
   "execution_count": 28,
   "metadata": {},
   "outputs": [
    {
     "name": "stdout",
     "output_type": "stream",
     "text": [
      "Epoch 000/020 | Loss 0.0015 | Win/lose count 2.0/1.0 (1.0)\n",
      "Epoch 001/020 | Loss 0.0004 | Win/lose count 1.5/1.0 (0.5)\n",
      "Epoch 002/020 | Loss 0.0002 | Win/lose count 1.5/3.0 (-1.5)\n",
      "Epoch 003/020 | Loss 0.0011 | Win/lose count 0.5/4.0 (-3.5)\n",
      "Epoch 004/020 | Loss 0.0004 | Win/lose count 2.5/2.0 (0.5)\n",
      "Epoch 005/020 | Loss 0.0065 | Win/lose count 1.0/1.0 (0.0)\n",
      "Epoch 006/020 | Loss 0.0000 | Win/lose count 4.0/6.0 (-2.0)\n",
      "Epoch 007/020 | Loss 0.0006 | Win/lose count 3.0/3.0 (0.0)\n",
      "Epoch 008/020 | Loss 0.0054 | Win/lose count 7.0/3.0 (4.0)\n",
      "Epoch 009/020 | Loss 0.0038 | Win/lose count 1.5/3.0 (-1.5)\n",
      "Epoch 010/020 | Loss 0.0006 | Win/lose count 5.5/1.0 (4.5)\n",
      "Epoch 011/020 | Loss 0.0048 | Win/lose count 7.5/6.0 (1.5)\n",
      "Epoch 012/020 | Loss 0.0002 | Win/lose count 3.5/2.0 (1.5)\n",
      "Epoch 013/020 | Loss 0.0018 | Win/lose count 8.5/2.0 (6.5)\n",
      "Epoch 014/020 | Loss 0.0040 | Win/lose count 4.5/5.0 (-0.5)\n",
      "Epoch 015/020 | Loss 0.0028 | Win/lose count 12.5/3.0 (9.5)\n",
      "Epoch 016/020 | Loss 0.0015 | Win/lose count 6.5/1.0 (5.5)\n",
      "Epoch 017/020 | Loss 0.0539 | Win/lose count 4.5/3.0 (1.5)\n",
      "Epoch 018/020 | Loss 0.0528 | Win/lose count 5.5/0 (5.5)\n",
      "Epoch 019/020 | Loss 0.0005 | Win/lose count 10.0/2.0 (8.0)\n"
     ]
    },
    {
     "data": {
      "text/html": [
       "<video alt=\"test\" controls>\n",
       "                <source src=\"data:video/mp4;base64,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\" type=\"video/mp4\" />\n",
       "             </video>"
      ],
      "text/plain": [
       "<IPython.core.display.HTML object>"
      ]
     },
     "execution_count": 28,
     "metadata": {},
     "output_type": "execute_result"
    }
   ],
   "source": [
    "env = Environment(grid_size=size, max_time=T, temperature=0.3)\n",
    "epochs_train=10\n",
    "agent = DQN_CNN(size, lr=.1, epsilon = 0.1, memory_size=100, batch_size = 32)\n",
    "train(agent,env,20,prefix='cnn_train')\n",
    "HTML(display_videos('cnn_train0.mp4'))"
   ]
  },
  {
   "cell_type": "markdown",
   "metadata": {},
   "source": [
    "***\n",
    "***\n",
    "__Question 9__ Test both algorithms and compare their performances. Which issue(s) do you observe? Observe also different behaviors by changing the temperature."
   ]
  },
  {
   "cell_type": "code",
   "execution_count": 30,
   "metadata": {},
   "outputs": [
    {
     "name": "stdout",
     "output_type": "stream",
     "text": [
      "Test of the CNN\n",
      "Win/lose count 1.0/0. Average score (1.0)\n",
      "Win/lose count 0/0. Average score (0.5)\n",
      "Win/lose count 2.0/0. Average score (1.0)\n",
      "Win/lose count 0.5/0. Average score (0.875)\n",
      "Win/lose count 1.0/0. Average score (0.9)\n",
      "Win/lose count 3.0/0. Average score (1.25)\n",
      "Win/lose count 1.5/0. Average score (1.2857142857142858)\n",
      "Win/lose count 2.0/0. Average score (1.375)\n",
      "Win/lose count 2.0/0. Average score (1.4444444444444444)\n",
      "Win/lose count 1.5/0. Average score (1.45)\n",
      "Final score: 1.45\n",
      "Test of the FC\n",
      "Win/lose count 0/1.0. Average score (-1.0)\n",
      "Win/lose count 1.0/1.0. Average score (-0.5)\n",
      "Win/lose count 0.5/0. Average score (-0.16666666666666666)\n",
      "Win/lose count 0/0. Average score (-0.125)\n",
      "Win/lose count 0/0. Average score (-0.1)\n",
      "Win/lose count 0.5/1.0. Average score (-0.16666666666666666)\n",
      "Win/lose count 0/2.0. Average score (-0.42857142857142855)\n",
      "Win/lose count 0/1.0. Average score (-0.5)\n",
      "Win/lose count 0/0. Average score (-0.4444444444444444)\n",
      "Win/lose count 0/0. Average score (-0.4)\n",
      "Final score: -0.4\n"
     ]
    }
   ],
   "source": [
    "epochs_test=10\n",
    "env = Environment(grid_size=size, max_time=T,temperature=0.1)\n",
    "agent_cnn = DQN_CNN(size, lr=.1, epsilon = 0.1, memory_size=100, batch_size = 32)\n",
    "agent_cnn.load(name_weights='cnn_trainmodel.h5',name_model='cnn_trainmodel.json')\n",
    "\n",
    "agent_fc = DQN_FC(size, lr=.1, epsilon = 0.1, memory_size=100, batch_size = 32)\n",
    "agent_cnn.load(name_weights='fc_trainmodel.h5',name_model='fc_trainmodel.json')\n",
    "print('Test of the CNN')\n",
    "test(agent_cnn,env,epochs_test,prefix='cnn_test')\n",
    "print('Test of the FC')\n",
    "test(agent_fc,env,epochs_test,prefix='fc_test')"
   ]
  },
  {
   "cell_type": "code",
   "execution_count": 31,
   "metadata": {},
   "outputs": [
    {
     "data": {
      "text/html": [
       "<video alt=\"test\" controls>\n",
       "                <source src=\"data:video/mp4;base64,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\" type=\"video/mp4\" />\n",
       "             </video>"
      ],
      "text/plain": [
       "<IPython.core.display.HTML object>"
      ]
     },
     "execution_count": 31,
     "metadata": {},
     "output_type": "execute_result"
    }
   ],
   "source": [
    "HTML(display_videos('cnn_test10.mp4'))"
   ]
  },
  {
   "cell_type": "code",
   "execution_count": 33,
   "metadata": {},
   "outputs": [
    {
     "data": {
      "text/html": [
       "<video alt=\"test\" controls>\n",
       "                <source src=\"data:video/mp4;base64,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\" type=\"video/mp4\" />\n",
       "             </video>"
      ],
      "text/plain": [
       "<IPython.core.display.HTML object>"
      ]
     },
     "execution_count": 33,
     "metadata": {},
     "output_type": "execute_result"
    }
   ],
   "source": [
    "HTML(display_videos('fc_test0.mp4'))"
   ]
  },
  {
   "cell_type": "markdown",
   "metadata": {},
   "source": []
  },
  {
   "cell_type": "markdown",
   "metadata": {},
   "source": [
    "***\n",
    "\n",
    "The algorithm tends to not explore the map which can be an issue. We propose two ideas in order to encourage exploration:\n",
    "1. Incorporating a decreasing $\\epsilon$-greedy exploration. You can use the method ```set_epsilon```\n",
    "2. Append via the environment a new state that describes if a cell has been visited or not\n",
    "\n",
    "***\n",
    "__Question 10__ Design a new ```train_explore``` function and environment class ```EnvironmentExploring``` to tackle the issue of exploration.\n",
    "\n"
   ]
  },
  {
   "cell_type": "code",
   "execution_count": 24,
   "metadata": {},
   "outputs": [],
   "source": [
    "def train_explore(agent,env,epoch,prefix=''):\n",
    "        # Number of won games\n",
    "    score = 0\n",
    "    loss = 0\n",
    "    epsilone_decay=0.999\n",
    "\n",
    "    for e in range(epoch):\n",
    "        # At each epoch, we restart to a fresh game and get the initial state\n",
    "        state = env.reset()\n",
    "        # This assumes that the games will terminate\n",
    "        game_over = False\n",
    "\n",
    "        win = 0\n",
    "        lose = 0\n",
    "\n",
    "        while not game_over:\n",
    "            # The agent performs an action\n",
    "            action = agent.act(state)\n",
    "            \n",
    "            #decreasing epsilone\n",
    "            agent.set_epsilon(agent.epsilon*epsilone_decay)\n",
    "\n",
    "\n",
    "            # Apply an action to the environment, get the next state, the reward\n",
    "            # and if the games end\n",
    "            prev_state = state\n",
    "            state, reward, game_over = env.act(action,train=True)\n",
    "            \n",
    "\n",
    "            # Update the counters\n",
    "            if reward > 0:\n",
    "                win = win + reward\n",
    "            if reward < 0:\n",
    "                lose = lose -reward\n",
    "\n",
    "            # Apply the reinforcement strategy\n",
    "            loss = agent.reinforce(prev_state, state,  action, reward, game_over)\n",
    "\n",
    "        # Save as a mp4\n",
    "        if e % 10 == 0:\n",
    "            env.draw(prefix+str(e))\n",
    "\n",
    "        # Update stats\n",
    "        score += win-lose\n",
    "\n",
    "        print(\"Epoch {:03d}/{:03d} | Loss {:.4f} | Win/lose count {}/{} ({})\"\n",
    "              .format(e, epoch, loss, win, lose, win-lose))\n",
    "        agent.save(name_weights=prefix+'model.h5',name_model=prefix+'model.json')\n",
    "    pass\n",
    "        \n",
    "class EnvironmentExploring(object):\n",
    "    def __init__(self, grid_size=10, max_time=500, temperature=0.1):\n",
    "        grid_size = grid_size+4\n",
    "        self.grid_size = grid_size\n",
    "        self.max_time = max_time\n",
    "        self.temperature = temperature\n",
    "        #epsilon decay\n",
    "        #board on which one plays\n",
    "        self.board = np.zeros((grid_size,grid_size))\n",
    "        self.position = np.zeros((grid_size,grid_size))\n",
    "        self.malus_position = np.zeros((grid_size,grid_size))\n",
    "\n",
    "        # coordinate of the cat\n",
    "        self.x = 0\n",
    "        self.y = 1\n",
    "\n",
    "        # self time\n",
    "        self.t = 0\n",
    "\n",
    "        self.scale=16\n",
    "\n",
    "        self.to_draw = np.zeros((max_time+2, grid_size*self.scale, grid_size*self.scale, 3))\n",
    "\n",
    "\n",
    "    def draw(self,e):\n",
    "        skvideo.io.vwrite(str(e) + '.mp4', self.to_draw)\n",
    "\n",
    "    def get_frame(self,t):\n",
    "        b = np.zeros((self.grid_size,self.grid_size,3))+128\n",
    "        b[self.board>0,0] = 256\n",
    "        b[self.board < 0, 2] = 256\n",
    "        b[self.x,self.y,:]=256\n",
    "        b[-2:,:,:]=0\n",
    "        b[:,-2:,:]=0\n",
    "        b[:2,:,:]=0\n",
    "        b[:,:2,:]=0\n",
    "        \n",
    "        b =  cv2.resize(b, None, fx=self.scale, fy=self.scale, interpolation=cv2.INTER_NEAREST)\n",
    "\n",
    "        self.to_draw[t,:,:,:]=b\n",
    "\n",
    "\n",
    "    def act(self, action,train):\n",
    "        \"\"\"This function returns the new state, reward and decides if the\n",
    "        game ends.\"\"\"\n",
    "\n",
    "        self.get_frame(int(self.t))\n",
    "\n",
    "        self.position = np.zeros((self.grid_size, self.grid_size))\n",
    "\n",
    "        self.position[0:2,:]= -1\n",
    "        self.position[:,0:2] = -1\n",
    "        self.position[-2:, :] = -1\n",
    "        self.position[-2:, :] = -1\n",
    "\n",
    "        self.position[self.x, self.y] = 1\n",
    "        if action == 0:\n",
    "            if self.x == self.grid_size-3:\n",
    "                self.x = self.x-1\n",
    "            else:\n",
    "                self.x = self.x + 1\n",
    "        elif action == 1:\n",
    "            if self.x == 2:\n",
    "                self.x = self.x+1\n",
    "            else:\n",
    "                self.x = self.x-1\n",
    "        elif action == 2:\n",
    "            if self.y == self.grid_size - 3:\n",
    "                self.y = self.y - 1\n",
    "            else:\n",
    "                self.y = self.y + 1\n",
    "        elif action == 3:\n",
    "            if self.y == 2:\n",
    "                self.y = self.y + 1\n",
    "            else:\n",
    "                self.y = self.y - 1\n",
    "        else:\n",
    "            RuntimeError('Error: action not recognized')\n",
    "\n",
    "        self.t = self.t + 1\n",
    "        \n",
    "        reward = 0\n",
    "        if train:\n",
    "            reward = -self.malus_position[self.x, self.y]\n",
    "        self.malus_position[self.x, self.y] = 0.1\n",
    "\n",
    "        reward = reward + self.board[self.x, self.y]\n",
    "        \n",
    "        reward = self.board[self.x, self.y]\n",
    "        self.board[self.x, self.y] = 0\n",
    "        game_over = self.t > self.max_time\n",
    "        state = np.concatenate((self.malus_position.reshape(self.grid_size, self.grid_size,1),\n",
    "                                self.board.reshape(self.grid_size, self.grid_size,1),\n",
    "                        self.position.reshape(self.grid_size, self.grid_size,1)),axis=2)\n",
    "        state = state[self.x-2:self.x+3,self.y-2:self.y+3,:]\n",
    "\n",
    "        return state, reward, game_over\n",
    "\n",
    "    def reset(self):\n",
    "        \"\"\"This function resets the game and returns the initial state\"\"\"\n",
    "\n",
    "        self.x = np.random.randint(3, self.grid_size-3, size=1)[0]\n",
    "        self.y = np.random.randint(3, self.grid_size-3, size=1)[0]\n",
    "\n",
    "\n",
    "        bonus = 0.5*np.random.binomial(1,self.temperature,size=self.grid_size**2)\n",
    "        bonus = bonus.reshape(self.grid_size,self.grid_size)\n",
    "\n",
    "        malus = -1.0*np.random.binomial(1,self.temperature,size=self.grid_size**2)\n",
    "        malus = malus.reshape(self.grid_size, self.grid_size)\n",
    "\n",
    "        self.to_draw = np.zeros((self.max_time+2, self.grid_size*self.scale, self.grid_size*self.scale, 3))\n",
    "\n",
    "\n",
    "        malus[bonus>0]=0\n",
    "\n",
    "        self.board = bonus + malus\n",
    "\n",
    "        self.position = np.zeros((self.grid_size, self.grid_size))\n",
    "        self.position[0:2,:]= -1\n",
    "        self.position[:,0:2] = -1\n",
    "        self.position[-2:, :] = -1\n",
    "        self.position[-2:, :] = -1\n",
    "        self.board[self.x,self.y] = 0\n",
    "        self.t = 0\n",
    "        \n",
    "        self.malus_position = np.zeros((self.grid_size,self.grid_size))\n",
    "        \n",
    "        state = np.concatenate((self.malus_position.reshape(self.grid_size, self.grid_size,1),\n",
    "                                self.board.reshape(self.grid_size, self.grid_size,1),\n",
    "                        self.position.reshape(self.grid_size, self.grid_size,1)),axis=2)\n",
    "\n",
    "        state = state[self.x - 2:self.x + 3, self.y - 2:self.y + 3, :]\n",
    "        return state\n"
   ]
  },
  {
   "cell_type": "code",
   "execution_count": 19,
   "metadata": {
    "scrolled": true
   },
   "outputs": [
    {
     "name": "stdout",
     "output_type": "stream",
     "text": [
      "Epoch 000/010 | Loss 0.0169 | Win/lose count 3.0/1.0 (2.0)\n",
      "Epoch 001/010 | Loss 0.0042 | Win/lose count 1.5/6.0 (-4.5)\n",
      "Epoch 002/010 | Loss 0.0002 | Win/lose count 4.0/4.0 (0.0)\n",
      "Epoch 003/010 | Loss 0.0076 | Win/lose count 1.0/3.0 (-2.0)\n",
      "Epoch 004/010 | Loss 0.0045 | Win/lose count 2.5/3.0 (-0.5)\n",
      "Epoch 005/010 | Loss 0.0048 | Win/lose count 2.5/4.0 (-1.5)\n",
      "Epoch 006/010 | Loss 0.0043 | Win/lose count 3.5/0 (3.5)\n",
      "Epoch 007/010 | Loss 0.0014 | Win/lose count 1.0/0 (1.0)\n",
      "Epoch 008/010 | Loss 0.0030 | Win/lose count 1.5/0 (1.5)\n",
      "Epoch 009/010 | Loss 0.0017 | Win/lose count 2.0/2.0 (0.0)\n"
     ]
    },
    {
     "data": {
      "text/html": [
       "<video alt=\"test\" controls>\n",
       "                <source src=\"data:video/mp4;base64,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\" type=\"video/mp4\" />\n",
       "             </video>"
      ],
      "text/plain": [
       "<IPython.core.display.HTML object>"
      ]
     },
     "execution_count": 19,
     "metadata": {},
     "output_type": "execute_result"
    }
   ],
   "source": [
    "# Training\n",
    "epochs_train=10\n",
    "env = EnvironmentExploring(grid_size=size, max_time=T, temperature=0.3)\n",
    "agent = DQN_CNN(size, lr=.1, epsilon = 0.1, memory_size=2000, batch_size = 32,n_state=3)\n",
    "train_explore(agent, env, epochs_train, prefix='cnn_train_explore')\n",
    "HTML(display_videos('cnn_train_explore0.mp4'))"
   ]
  },
  {
   "cell_type": "code",
   "execution_count": 21,
   "metadata": {},
   "outputs": [],
   "source": [
    "def test(agent,env,epochs,prefix=''):\n",
    "    # Number of won games\n",
    "    score = 0\n",
    "        \n",
    "    for e in range(epochs):\n",
    "        \n",
    "        ##### FILL IN HERE\n",
    "        state = env.reset()\n",
    "        game_over = False\n",
    "        win = 0\n",
    "        lose = 0\n",
    "        while not game_over:\n",
    "            action = agent.act(state,False)\n",
    "            prev_state = state\n",
    "            state, reward, game_over = env.act(action,train=False)\n",
    "            if reward > 0:\n",
    "                win = win + reward\n",
    "            if reward < 0:\n",
    "                lose = lose -reward\n",
    "        # Save as a mp4\n",
    "        env.draw(prefix+str(e))\n",
    "\n",
    "        # Update stats\n",
    "        score = score + win-lose\n",
    "\n",
    "        print(\"Win/lose count {}/{}. Average score ({})\"\n",
    "              .format(win, lose, score/(1+e)))\n",
    "    print('Final score: '+str(score/epochs))"
   ]
  },
  {
   "cell_type": "code",
   "execution_count": 23,
   "metadata": {},
   "outputs": [
    {
     "name": "stdout",
     "output_type": "stream",
     "text": [
      "Win/lose count 1.5/1.0. Average score (0.5)\n",
      "Win/lose count 1.5/2.0. Average score (0.0)\n",
      "Win/lose count 1.5/2.0. Average score (-0.16666666666666666)\n",
      "Win/lose count 0/0. Average score (-0.125)\n",
      "Win/lose count 0.5/0. Average score (0.0)\n",
      "Win/lose count 2.5/0. Average score (0.4166666666666667)\n",
      "Win/lose count 2.5/1.0. Average score (0.5714285714285714)\n",
      "Win/lose count 3.0/0. Average score (0.875)\n",
      "Win/lose count 4.0/1.0. Average score (1.1111111111111112)\n",
      "Win/lose count 1.5/1.0. Average score (1.05)\n",
      "Final score: 1.05\n"
     ]
    },
    {
     "data": {
      "text/html": [
       "<video alt=\"test\" controls>\n",
       "                <source src=\"data:video/mp4;base64,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\" type=\"video/mp4\" />\n",
       "             </video>"
      ],
      "text/plain": [
       "<IPython.core.display.HTML object>"
      ]
     },
     "execution_count": 23,
     "metadata": {},
     "output_type": "execute_result"
    }
   ],
   "source": [
    "# Evaluation\n",
    "epochs_test=10\n",
    "test(agent,env,epochs_test,prefix='cnn_test_explore')\n",
    "HTML(display_videos('cnn_test_explore0.mp4'))"
   ]
  },
  {
   "cell_type": "markdown",
   "metadata": {},
   "source": [
    "***\n",
    "***\n",
    "__BONUS question__ Use the expert DQN from the previous question to generate some winning games. Train a model that mimicks its behavior. Compare the performances."
   ]
  },
  {
   "cell_type": "markdown",
   "metadata": {},
   "source": []
  },
  {
   "cell_type": "markdown",
   "metadata": {},
   "source": [
    "***"
   ]
  }
 ],
 "metadata": {
  "kernelspec": {
   "display_name": "Python 3",
   "language": "python",
   "name": "python3"
  },
  "language_info": {
   "codemirror_mode": {
    "name": "ipython",
    "version": 3
   },
   "file_extension": ".py",
   "mimetype": "text/x-python",
   "name": "python",
   "nbconvert_exporter": "python",
   "pygments_lexer": "ipython3",
   "version": "3.7.3"
  }
 },
 "nbformat": 4,
 "nbformat_minor": 2
}
